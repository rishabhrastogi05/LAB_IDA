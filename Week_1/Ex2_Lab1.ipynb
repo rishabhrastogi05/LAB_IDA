{
 "cells": [
  {
   "cell_type": "code",
   "execution_count": 1,
   "metadata": {
    "collapsed": true
   },
   "outputs": [],
   "source": [
    "import pandas as pd\n",
    "import numpy as np"
   ]
  },
  {
   "cell_type": "code",
   "execution_count": 13,
   "metadata": {},
   "outputs": [
    {
     "name": "stdout",
     "output_type": "stream",
     "text": [
      "[[1, 'Arihant', 'M', 92, 87, 84], [2, 'Arya', 'M', 86, 79, 85], [3, 'Sanjay', 'M', 84, 80, 87], [4, 'Sahaj', 'M', 86, 87, 84], [5, 'Anshul', 'M', 33, 55, 45], [6, 'Anish', 'M', 86, 37, 70], [7, 'Aryaman', 'M', 86, 83, 76], [8, 'Apoorv', 'M', 56, 32, 46], [9, 'Shiv', 'M', 23, 37, 45], [10, 'Yash', 'M', 60, 68, 73]]\n"
     ]
    }
   ],
   "source": [
    "data = [[1, 'Arihant', 'M', 92, 87, 84],\n",
    "        [2, 'Arya', 'M', 86, 79, 85],\n",
    "        [3, 'Sanjay', 'M', 84, 80,87],\n",
    "        [4, 'Sahaj', 'M', 86, 87, 84],\n",
    "        [5, 'Anshul', 'M', 33, 55, 45],\n",
    "        [6, 'Anish', 'M', 86, 37, 70],\n",
    "        [7, 'Aryaman', 'M', 86, 83, 76],\n",
    "        [8, 'Apoorv', 'M', 56, 32, 46],\n",
    "        [9, 'Shiv', 'M', 23, 37, 45],\n",
    "        [10, 'Yash', 'M', 60, 68, 73]]\n",
    "\n",
    "df = pd.DataFrame(data, columns = ['RollNo', 'Name', 'Gender', 'Marks1', 'Marks2', 'Marks3'])\n",
    "print(data)\n"
   ]
  },
  {
   "cell_type": "code",
   "execution_count": 3,
   "metadata": {
    "collapsed": true
   },
   "outputs": [],
   "source": [
    "df['TotalMarks'] = df['Marks1'] + df['Marks2'] + df['Marks3']"
   ]
  },
  {
   "cell_type": "code",
   "execution_count": 4,
   "metadata": {},
   "outputs": [
    {
     "data": {
      "text/plain": [
       "23"
      ]
     },
     "execution_count": 4,
     "metadata": {},
     "output_type": "execute_result"
    }
   ],
   "source": [
    "df['Marks1'].min()"
   ]
  },
  {
   "cell_type": "code",
   "execution_count": 14,
   "metadata": {},
   "outputs": [
    {
     "data": {
      "text/plain": [
       "87"
      ]
     },
     "execution_count": 14,
     "metadata": {},
     "output_type": "execute_result"
    }
   ],
   "source": [
    "df['Marks2'].max()"
   ]
  },
  {
   "cell_type": "code",
   "execution_count": 6,
   "metadata": {},
   "outputs": [
    {
     "data": {
      "text/plain": [
       "69.5"
      ]
     },
     "execution_count": 6,
     "metadata": {},
     "output_type": "execute_result"
    }
   ],
   "source": [
    "df['Marks3'].mean()"
   ]
  },
  {
   "cell_type": "code",
   "execution_count": 7,
   "metadata": {},
   "outputs": [
    {
     "data": {
      "text/plain": [
       "0    Arihant\n",
       "Name: Name, dtype: object"
      ]
     },
     "execution_count": 7,
     "metadata": {},
     "output_type": "execute_result"
    }
   ],
   "source": [
    "df.loc[df['TotalMarks'] == df['TotalMarks'].max(), 'Name']"
   ]
  },
  {
   "cell_type": "code",
   "execution_count": 8,
   "metadata": {},
   "outputs": [
    {
     "data": {
      "text/plain": [
       "3"
      ]
     },
     "execution_count": 8,
     "metadata": {},
     "output_type": "execute_result"
    }
   ],
   "source": [
    "len(df[df['Marks2'] < 40])"
   ]
  },
  {
   "cell_type": "code",
   "execution_count": null,
   "metadata": {
    "collapsed": true
   },
   "outputs": [],
   "source": []
  }
 ],
 "metadata": {
  "kernelspec": {
   "display_name": "Python 3",
   "language": "python",
   "name": "python3"
  },
  "language_info": {
   "codemirror_mode": {
    "name": "ipython",
    "version": 3
   },
   "file_extension": ".py",
   "mimetype": "text/x-python",
   "name": "python",
   "nbconvert_exporter": "python",
   "pygments_lexer": "ipython3",
   "version": "3.6.1"
  }
 },
 "nbformat": 4,
 "nbformat_minor": 5
}
